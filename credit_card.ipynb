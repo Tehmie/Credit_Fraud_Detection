{
 "cells": [
  {
   "cell_type": "code",
   "execution_count": 1,
   "id": "6f4570b6",
   "metadata": {},
   "outputs": [],
   "source": [
    "import numpy as np\n",
    "import pandas as pd\n",
    "import seaborn as sns\n",
    "import matplotlib.pyplot as plt\n",
    "%matplotlib inline"
   ]
  },
  {
   "cell_type": "code",
   "execution_count": 2,
   "id": "d659bfc5",
   "metadata": {},
   "outputs": [],
   "source": [
    "df = pd.read_csv('creditcard.csv')"
   ]
  },
  {
   "cell_type": "code",
   "execution_count": 3,
   "id": "44c244c5",
   "metadata": {},
   "outputs": [
    {
     "data": {
      "text/html": [
       "<div>\n",
       "<style scoped>\n",
       "    .dataframe tbody tr th:only-of-type {\n",
       "        vertical-align: middle;\n",
       "    }\n",
       "\n",
       "    .dataframe tbody tr th {\n",
       "        vertical-align: top;\n",
       "    }\n",
       "\n",
       "    .dataframe thead th {\n",
       "        text-align: right;\n",
       "    }\n",
       "</style>\n",
       "<table border=\"1\" class=\"dataframe\">\n",
       "  <thead>\n",
       "    <tr style=\"text-align: right;\">\n",
       "      <th></th>\n",
       "      <th>Time</th>\n",
       "      <th>V1</th>\n",
       "      <th>V2</th>\n",
       "      <th>V3</th>\n",
       "      <th>V4</th>\n",
       "      <th>V5</th>\n",
       "      <th>V6</th>\n",
       "      <th>V7</th>\n",
       "      <th>V8</th>\n",
       "      <th>V9</th>\n",
       "      <th>...</th>\n",
       "      <th>V21</th>\n",
       "      <th>V22</th>\n",
       "      <th>V23</th>\n",
       "      <th>V24</th>\n",
       "      <th>V25</th>\n",
       "      <th>V26</th>\n",
       "      <th>V27</th>\n",
       "      <th>V28</th>\n",
       "      <th>Amount</th>\n",
       "      <th>Class</th>\n",
       "    </tr>\n",
       "  </thead>\n",
       "  <tbody>\n",
       "    <tr>\n",
       "      <th>0</th>\n",
       "      <td>0.0</td>\n",
       "      <td>-1.359807</td>\n",
       "      <td>-0.072781</td>\n",
       "      <td>2.536347</td>\n",
       "      <td>1.378155</td>\n",
       "      <td>-0.338321</td>\n",
       "      <td>0.462388</td>\n",
       "      <td>0.239599</td>\n",
       "      <td>0.098698</td>\n",
       "      <td>0.363787</td>\n",
       "      <td>...</td>\n",
       "      <td>-0.018307</td>\n",
       "      <td>0.277838</td>\n",
       "      <td>-0.110474</td>\n",
       "      <td>0.066928</td>\n",
       "      <td>0.128539</td>\n",
       "      <td>-0.189115</td>\n",
       "      <td>0.133558</td>\n",
       "      <td>-0.021053</td>\n",
       "      <td>149.62</td>\n",
       "      <td>0</td>\n",
       "    </tr>\n",
       "    <tr>\n",
       "      <th>1</th>\n",
       "      <td>0.0</td>\n",
       "      <td>1.191857</td>\n",
       "      <td>0.266151</td>\n",
       "      <td>0.166480</td>\n",
       "      <td>0.448154</td>\n",
       "      <td>0.060018</td>\n",
       "      <td>-0.082361</td>\n",
       "      <td>-0.078803</td>\n",
       "      <td>0.085102</td>\n",
       "      <td>-0.255425</td>\n",
       "      <td>...</td>\n",
       "      <td>-0.225775</td>\n",
       "      <td>-0.638672</td>\n",
       "      <td>0.101288</td>\n",
       "      <td>-0.339846</td>\n",
       "      <td>0.167170</td>\n",
       "      <td>0.125895</td>\n",
       "      <td>-0.008983</td>\n",
       "      <td>0.014724</td>\n",
       "      <td>2.69</td>\n",
       "      <td>0</td>\n",
       "    </tr>\n",
       "    <tr>\n",
       "      <th>2</th>\n",
       "      <td>1.0</td>\n",
       "      <td>-1.358354</td>\n",
       "      <td>-1.340163</td>\n",
       "      <td>1.773209</td>\n",
       "      <td>0.379780</td>\n",
       "      <td>-0.503198</td>\n",
       "      <td>1.800499</td>\n",
       "      <td>0.791461</td>\n",
       "      <td>0.247676</td>\n",
       "      <td>-1.514654</td>\n",
       "      <td>...</td>\n",
       "      <td>0.247998</td>\n",
       "      <td>0.771679</td>\n",
       "      <td>0.909412</td>\n",
       "      <td>-0.689281</td>\n",
       "      <td>-0.327642</td>\n",
       "      <td>-0.139097</td>\n",
       "      <td>-0.055353</td>\n",
       "      <td>-0.059752</td>\n",
       "      <td>378.66</td>\n",
       "      <td>0</td>\n",
       "    </tr>\n",
       "    <tr>\n",
       "      <th>3</th>\n",
       "      <td>1.0</td>\n",
       "      <td>-0.966272</td>\n",
       "      <td>-0.185226</td>\n",
       "      <td>1.792993</td>\n",
       "      <td>-0.863291</td>\n",
       "      <td>-0.010309</td>\n",
       "      <td>1.247203</td>\n",
       "      <td>0.237609</td>\n",
       "      <td>0.377436</td>\n",
       "      <td>-1.387024</td>\n",
       "      <td>...</td>\n",
       "      <td>-0.108300</td>\n",
       "      <td>0.005274</td>\n",
       "      <td>-0.190321</td>\n",
       "      <td>-1.175575</td>\n",
       "      <td>0.647376</td>\n",
       "      <td>-0.221929</td>\n",
       "      <td>0.062723</td>\n",
       "      <td>0.061458</td>\n",
       "      <td>123.50</td>\n",
       "      <td>0</td>\n",
       "    </tr>\n",
       "    <tr>\n",
       "      <th>4</th>\n",
       "      <td>2.0</td>\n",
       "      <td>-1.158233</td>\n",
       "      <td>0.877737</td>\n",
       "      <td>1.548718</td>\n",
       "      <td>0.403034</td>\n",
       "      <td>-0.407193</td>\n",
       "      <td>0.095921</td>\n",
       "      <td>0.592941</td>\n",
       "      <td>-0.270533</td>\n",
       "      <td>0.817739</td>\n",
       "      <td>...</td>\n",
       "      <td>-0.009431</td>\n",
       "      <td>0.798278</td>\n",
       "      <td>-0.137458</td>\n",
       "      <td>0.141267</td>\n",
       "      <td>-0.206010</td>\n",
       "      <td>0.502292</td>\n",
       "      <td>0.219422</td>\n",
       "      <td>0.215153</td>\n",
       "      <td>69.99</td>\n",
       "      <td>0</td>\n",
       "    </tr>\n",
       "    <tr>\n",
       "      <th>5</th>\n",
       "      <td>2.0</td>\n",
       "      <td>-0.425966</td>\n",
       "      <td>0.960523</td>\n",
       "      <td>1.141109</td>\n",
       "      <td>-0.168252</td>\n",
       "      <td>0.420987</td>\n",
       "      <td>-0.029728</td>\n",
       "      <td>0.476201</td>\n",
       "      <td>0.260314</td>\n",
       "      <td>-0.568671</td>\n",
       "      <td>...</td>\n",
       "      <td>-0.208254</td>\n",
       "      <td>-0.559825</td>\n",
       "      <td>-0.026398</td>\n",
       "      <td>-0.371427</td>\n",
       "      <td>-0.232794</td>\n",
       "      <td>0.105915</td>\n",
       "      <td>0.253844</td>\n",
       "      <td>0.081080</td>\n",
       "      <td>3.67</td>\n",
       "      <td>0</td>\n",
       "    </tr>\n",
       "    <tr>\n",
       "      <th>6</th>\n",
       "      <td>4.0</td>\n",
       "      <td>1.229658</td>\n",
       "      <td>0.141004</td>\n",
       "      <td>0.045371</td>\n",
       "      <td>1.202613</td>\n",
       "      <td>0.191881</td>\n",
       "      <td>0.272708</td>\n",
       "      <td>-0.005159</td>\n",
       "      <td>0.081213</td>\n",
       "      <td>0.464960</td>\n",
       "      <td>...</td>\n",
       "      <td>-0.167716</td>\n",
       "      <td>-0.270710</td>\n",
       "      <td>-0.154104</td>\n",
       "      <td>-0.780055</td>\n",
       "      <td>0.750137</td>\n",
       "      <td>-0.257237</td>\n",
       "      <td>0.034507</td>\n",
       "      <td>0.005168</td>\n",
       "      <td>4.99</td>\n",
       "      <td>0</td>\n",
       "    </tr>\n",
       "    <tr>\n",
       "      <th>7</th>\n",
       "      <td>7.0</td>\n",
       "      <td>-0.644269</td>\n",
       "      <td>1.417964</td>\n",
       "      <td>1.074380</td>\n",
       "      <td>-0.492199</td>\n",
       "      <td>0.948934</td>\n",
       "      <td>0.428118</td>\n",
       "      <td>1.120631</td>\n",
       "      <td>-3.807864</td>\n",
       "      <td>0.615375</td>\n",
       "      <td>...</td>\n",
       "      <td>1.943465</td>\n",
       "      <td>-1.015455</td>\n",
       "      <td>0.057504</td>\n",
       "      <td>-0.649709</td>\n",
       "      <td>-0.415267</td>\n",
       "      <td>-0.051634</td>\n",
       "      <td>-1.206921</td>\n",
       "      <td>-1.085339</td>\n",
       "      <td>40.80</td>\n",
       "      <td>0</td>\n",
       "    </tr>\n",
       "    <tr>\n",
       "      <th>8</th>\n",
       "      <td>7.0</td>\n",
       "      <td>-0.894286</td>\n",
       "      <td>0.286157</td>\n",
       "      <td>-0.113192</td>\n",
       "      <td>-0.271526</td>\n",
       "      <td>2.669599</td>\n",
       "      <td>3.721818</td>\n",
       "      <td>0.370145</td>\n",
       "      <td>0.851084</td>\n",
       "      <td>-0.392048</td>\n",
       "      <td>...</td>\n",
       "      <td>-0.073425</td>\n",
       "      <td>-0.268092</td>\n",
       "      <td>-0.204233</td>\n",
       "      <td>1.011592</td>\n",
       "      <td>0.373205</td>\n",
       "      <td>-0.384157</td>\n",
       "      <td>0.011747</td>\n",
       "      <td>0.142404</td>\n",
       "      <td>93.20</td>\n",
       "      <td>0</td>\n",
       "    </tr>\n",
       "    <tr>\n",
       "      <th>9</th>\n",
       "      <td>9.0</td>\n",
       "      <td>-0.338262</td>\n",
       "      <td>1.119593</td>\n",
       "      <td>1.044367</td>\n",
       "      <td>-0.222187</td>\n",
       "      <td>0.499361</td>\n",
       "      <td>-0.246761</td>\n",
       "      <td>0.651583</td>\n",
       "      <td>0.069539</td>\n",
       "      <td>-0.736727</td>\n",
       "      <td>...</td>\n",
       "      <td>-0.246914</td>\n",
       "      <td>-0.633753</td>\n",
       "      <td>-0.120794</td>\n",
       "      <td>-0.385050</td>\n",
       "      <td>-0.069733</td>\n",
       "      <td>0.094199</td>\n",
       "      <td>0.246219</td>\n",
       "      <td>0.083076</td>\n",
       "      <td>3.68</td>\n",
       "      <td>0</td>\n",
       "    </tr>\n",
       "  </tbody>\n",
       "</table>\n",
       "<p>10 rows × 31 columns</p>\n",
       "</div>"
      ],
      "text/plain": [
       "   Time        V1        V2        V3        V4        V5        V6        V7  \\\n",
       "0   0.0 -1.359807 -0.072781  2.536347  1.378155 -0.338321  0.462388  0.239599   \n",
       "1   0.0  1.191857  0.266151  0.166480  0.448154  0.060018 -0.082361 -0.078803   \n",
       "2   1.0 -1.358354 -1.340163  1.773209  0.379780 -0.503198  1.800499  0.791461   \n",
       "3   1.0 -0.966272 -0.185226  1.792993 -0.863291 -0.010309  1.247203  0.237609   \n",
       "4   2.0 -1.158233  0.877737  1.548718  0.403034 -0.407193  0.095921  0.592941   \n",
       "5   2.0 -0.425966  0.960523  1.141109 -0.168252  0.420987 -0.029728  0.476201   \n",
       "6   4.0  1.229658  0.141004  0.045371  1.202613  0.191881  0.272708 -0.005159   \n",
       "7   7.0 -0.644269  1.417964  1.074380 -0.492199  0.948934  0.428118  1.120631   \n",
       "8   7.0 -0.894286  0.286157 -0.113192 -0.271526  2.669599  3.721818  0.370145   \n",
       "9   9.0 -0.338262  1.119593  1.044367 -0.222187  0.499361 -0.246761  0.651583   \n",
       "\n",
       "         V8        V9  ...       V21       V22       V23       V24       V25  \\\n",
       "0  0.098698  0.363787  ... -0.018307  0.277838 -0.110474  0.066928  0.128539   \n",
       "1  0.085102 -0.255425  ... -0.225775 -0.638672  0.101288 -0.339846  0.167170   \n",
       "2  0.247676 -1.514654  ...  0.247998  0.771679  0.909412 -0.689281 -0.327642   \n",
       "3  0.377436 -1.387024  ... -0.108300  0.005274 -0.190321 -1.175575  0.647376   \n",
       "4 -0.270533  0.817739  ... -0.009431  0.798278 -0.137458  0.141267 -0.206010   \n",
       "5  0.260314 -0.568671  ... -0.208254 -0.559825 -0.026398 -0.371427 -0.232794   \n",
       "6  0.081213  0.464960  ... -0.167716 -0.270710 -0.154104 -0.780055  0.750137   \n",
       "7 -3.807864  0.615375  ...  1.943465 -1.015455  0.057504 -0.649709 -0.415267   \n",
       "8  0.851084 -0.392048  ... -0.073425 -0.268092 -0.204233  1.011592  0.373205   \n",
       "9  0.069539 -0.736727  ... -0.246914 -0.633753 -0.120794 -0.385050 -0.069733   \n",
       "\n",
       "        V26       V27       V28  Amount  Class  \n",
       "0 -0.189115  0.133558 -0.021053  149.62      0  \n",
       "1  0.125895 -0.008983  0.014724    2.69      0  \n",
       "2 -0.139097 -0.055353 -0.059752  378.66      0  \n",
       "3 -0.221929  0.062723  0.061458  123.50      0  \n",
       "4  0.502292  0.219422  0.215153   69.99      0  \n",
       "5  0.105915  0.253844  0.081080    3.67      0  \n",
       "6 -0.257237  0.034507  0.005168    4.99      0  \n",
       "7 -0.051634 -1.206921 -1.085339   40.80      0  \n",
       "8 -0.384157  0.011747  0.142404   93.20      0  \n",
       "9  0.094199  0.246219  0.083076    3.68      0  \n",
       "\n",
       "[10 rows x 31 columns]"
      ]
     },
     "execution_count": 3,
     "metadata": {},
     "output_type": "execute_result"
    }
   ],
   "source": [
    "df.head(10)"
   ]
  },
  {
   "cell_type": "code",
   "execution_count": 4,
   "id": "7e2c9b1c",
   "metadata": {},
   "outputs": [
    {
     "name": "stdout",
     "output_type": "stream",
     "text": [
      "There 0 Missing Values in the dataset\n"
     ]
    }
   ],
   "source": [
    "df.isna().sum().sum()\n",
    "\n",
    "print(f'There {df.isna().sum().sum()} Missing Values in the dataset')"
   ]
  },
  {
   "cell_type": "code",
   "execution_count": 5,
   "id": "2594820d",
   "metadata": {},
   "outputs": [
    {
     "name": "stderr",
     "output_type": "stream",
     "text": [
      "C:\\Users\\PC\\anaconda3\\envs\\tensorflow\\lib\\site-packages\\seaborn\\_decorators.py:36: FutureWarning: Pass the following variable as a keyword arg: x. From version 0.12, the only valid positional argument will be `data`, and passing other arguments without an explicit keyword will result in an error or misinterpretation.\n",
      "  warnings.warn(\n"
     ]
    },
    {
     "data": {
      "image/png": "[encoded data removed]",
      "text/plain": [
       "<Figure size 432x288 with 1 Axes>"
      ]
     },
     "metadata": {
      "needs_background": "light"
     },
     "output_type": "display_data"
    }
   ],
   "source": [
    "sns.countplot(df[\"Class\"]);"
   ]
  },
  {
   "cell_type": "code",
   "execution_count": 6,
   "id": "991e0432",
   "metadata": {},
   "outputs": [],
   "source": [
    "from sklearn.preprocessing import RobustScaler\n",
    "\n",
    "rob_scale = RobustScaler()\n",
    "\n",
    "df['scaled_amount']=rob_scale.fit_transform(df['Amount'].values.reshape(-1,1))\n",
    "df['scaled_Time']=rob_scale.fit_transform(df['Time'].values.reshape(-1,1))\n",
    "\n",
    "df.drop(['Amount','Time'], axis=1,inplace=True)"
   ]
  },
  {
   "cell_type": "code",
   "execution_count": 7,
   "id": "ca03d269",
   "metadata": {},
   "outputs": [
    {
     "name": "stdout",
     "output_type": "stream",
     "text": [
      "Legit: 492 & Fraud : 284315\n"
     ]
    }
   ],
   "source": [
    "legit = df[df[\"Class\"] == 0]\n",
    "fraud = df[df[\"Class\"] == 1]\n",
    "\n",
    "\n",
    "print(f'Legit: {fraud.Class.value_counts()[1]} & Fraud : {legit.Class.value_counts()[0]}')"
   ]
  },
  {
   "cell_type": "code",
   "execution_count": 8,
   "id": "00107dd8",
   "metadata": {},
   "outputs": [
    {
     "data": {
      "text/plain": [
       "0    492\n",
       "Name: Class, dtype: int64"
      ]
     },
     "execution_count": 8,
     "metadata": {},
     "output_type": "execute_result"
    }
   ],
   "source": [
    "ls = legit.sample(n=492)\n",
    "ls.Class.value_counts()"
   ]
  },
  {
   "cell_type": "code",
   "execution_count": 9,
   "id": "52e56664",
   "metadata": {},
   "outputs": [
    {
     "data": {
      "text/html": [
       "<div>\n",
       "<style scoped>\n",
       "    .dataframe tbody tr th:only-of-type {\n",
       "        vertical-align: middle;\n",
       "    }\n",
       "\n",
       "    .dataframe tbody tr th {\n",
       "        vertical-align: top;\n",
       "    }\n",
       "\n",
       "    .dataframe thead th {\n",
       "        text-align: right;\n",
       "    }\n",
       "</style>\n",
       "<table border=\"1\" class=\"dataframe\">\n",
       "  <thead>\n",
       "    <tr style=\"text-align: right;\">\n",
       "      <th></th>\n",
       "      <th>V1</th>\n",
       "      <th>V2</th>\n",
       "      <th>V3</th>\n",
       "      <th>V4</th>\n",
       "      <th>V5</th>\n",
       "      <th>V6</th>\n",
       "      <th>V7</th>\n",
       "      <th>V8</th>\n",
       "      <th>V9</th>\n",
       "      <th>V10</th>\n",
       "      <th>...</th>\n",
       "      <th>V22</th>\n",
       "      <th>V23</th>\n",
       "      <th>V24</th>\n",
       "      <th>V25</th>\n",
       "      <th>V26</th>\n",
       "      <th>V27</th>\n",
       "      <th>V28</th>\n",
       "      <th>Class</th>\n",
       "      <th>scaled_amount</th>\n",
       "      <th>scaled_Time</th>\n",
       "    </tr>\n",
       "  </thead>\n",
       "  <tbody>\n",
       "    <tr>\n",
       "      <th>541</th>\n",
       "      <td>-2.312227</td>\n",
       "      <td>1.951992</td>\n",
       "      <td>-1.609851</td>\n",
       "      <td>3.997906</td>\n",
       "      <td>-0.522188</td>\n",
       "      <td>-1.426545</td>\n",
       "      <td>-2.537387</td>\n",
       "      <td>1.391657</td>\n",
       "      <td>-2.770089</td>\n",
       "      <td>-2.772272</td>\n",
       "      <td>...</td>\n",
       "      <td>-0.035049</td>\n",
       "      <td>-0.465211</td>\n",
       "      <td>0.320198</td>\n",
       "      <td>0.044519</td>\n",
       "      <td>0.177840</td>\n",
       "      <td>0.261145</td>\n",
       "      <td>-0.143276</td>\n",
       "      <td>1</td>\n",
       "      <td>-0.307413</td>\n",
       "      <td>-0.990214</td>\n",
       "    </tr>\n",
       "    <tr>\n",
       "      <th>623</th>\n",
       "      <td>-3.043541</td>\n",
       "      <td>-3.157307</td>\n",
       "      <td>1.088463</td>\n",
       "      <td>2.288644</td>\n",
       "      <td>1.359805</td>\n",
       "      <td>-1.064823</td>\n",
       "      <td>0.325574</td>\n",
       "      <td>-0.067794</td>\n",
       "      <td>-0.270953</td>\n",
       "      <td>-0.838587</td>\n",
       "      <td>...</td>\n",
       "      <td>0.435477</td>\n",
       "      <td>1.375966</td>\n",
       "      <td>-0.293803</td>\n",
       "      <td>0.279798</td>\n",
       "      <td>-0.145362</td>\n",
       "      <td>-0.252773</td>\n",
       "      <td>0.035764</td>\n",
       "      <td>1</td>\n",
       "      <td>7.084469</td>\n",
       "      <td>-0.989438</td>\n",
       "    </tr>\n",
       "    <tr>\n",
       "      <th>4920</th>\n",
       "      <td>-2.303350</td>\n",
       "      <td>1.759247</td>\n",
       "      <td>-0.359745</td>\n",
       "      <td>2.330243</td>\n",
       "      <td>-0.821628</td>\n",
       "      <td>-0.075788</td>\n",
       "      <td>0.562320</td>\n",
       "      <td>-0.399147</td>\n",
       "      <td>-0.238253</td>\n",
       "      <td>-1.525412</td>\n",
       "      <td>...</td>\n",
       "      <td>-0.932391</td>\n",
       "      <td>0.172726</td>\n",
       "      <td>-0.087330</td>\n",
       "      <td>-0.156114</td>\n",
       "      <td>-0.542628</td>\n",
       "      <td>0.039566</td>\n",
       "      <td>-0.153029</td>\n",
       "      <td>1</td>\n",
       "      <td>3.045204</td>\n",
       "      <td>-0.942563</td>\n",
       "    </tr>\n",
       "    <tr>\n",
       "      <th>6108</th>\n",
       "      <td>-4.397974</td>\n",
       "      <td>1.358367</td>\n",
       "      <td>-2.592844</td>\n",
       "      <td>2.679787</td>\n",
       "      <td>-1.128131</td>\n",
       "      <td>-1.706536</td>\n",
       "      <td>-3.496197</td>\n",
       "      <td>-0.248778</td>\n",
       "      <td>-0.247768</td>\n",
       "      <td>-4.801637</td>\n",
       "      <td>...</td>\n",
       "      <td>0.176968</td>\n",
       "      <td>-0.436207</td>\n",
       "      <td>-0.053502</td>\n",
       "      <td>0.252405</td>\n",
       "      <td>-0.657488</td>\n",
       "      <td>-0.827136</td>\n",
       "      <td>0.849573</td>\n",
       "      <td>1</td>\n",
       "      <td>0.517013</td>\n",
       "      <td>-0.912910</td>\n",
       "    </tr>\n",
       "    <tr>\n",
       "      <th>6329</th>\n",
       "      <td>1.234235</td>\n",
       "      <td>3.019740</td>\n",
       "      <td>-4.304597</td>\n",
       "      <td>4.732795</td>\n",
       "      <td>3.624201</td>\n",
       "      <td>-1.357746</td>\n",
       "      <td>1.713445</td>\n",
       "      <td>-0.496358</td>\n",
       "      <td>-1.282858</td>\n",
       "      <td>-2.447469</td>\n",
       "      <td>...</td>\n",
       "      <td>-0.704181</td>\n",
       "      <td>-0.656805</td>\n",
       "      <td>-1.632653</td>\n",
       "      <td>1.488901</td>\n",
       "      <td>0.566797</td>\n",
       "      <td>-0.010016</td>\n",
       "      <td>0.146793</td>\n",
       "      <td>1</td>\n",
       "      <td>-0.293440</td>\n",
       "      <td>-0.906648</td>\n",
       "    </tr>\n",
       "    <tr>\n",
       "      <th>6331</th>\n",
       "      <td>0.008430</td>\n",
       "      <td>4.137837</td>\n",
       "      <td>-6.240697</td>\n",
       "      <td>6.675732</td>\n",
       "      <td>0.768307</td>\n",
       "      <td>-3.353060</td>\n",
       "      <td>-1.631735</td>\n",
       "      <td>0.154612</td>\n",
       "      <td>-2.795892</td>\n",
       "      <td>-6.187891</td>\n",
       "      <td>...</td>\n",
       "      <td>-0.608057</td>\n",
       "      <td>-0.539528</td>\n",
       "      <td>0.128940</td>\n",
       "      <td>1.488481</td>\n",
       "      <td>0.507963</td>\n",
       "      <td>0.735822</td>\n",
       "      <td>0.513574</td>\n",
       "      <td>1</td>\n",
       "      <td>-0.293440</td>\n",
       "      <td>-0.906566</td>\n",
       "    </tr>\n",
       "    <tr>\n",
       "      <th>6334</th>\n",
       "      <td>0.026779</td>\n",
       "      <td>4.132464</td>\n",
       "      <td>-6.560600</td>\n",
       "      <td>6.348557</td>\n",
       "      <td>1.329666</td>\n",
       "      <td>-2.513479</td>\n",
       "      <td>-1.689102</td>\n",
       "      <td>0.303253</td>\n",
       "      <td>-3.139409</td>\n",
       "      <td>-6.045468</td>\n",
       "      <td>...</td>\n",
       "      <td>-0.576752</td>\n",
       "      <td>-0.669605</td>\n",
       "      <td>-0.759908</td>\n",
       "      <td>1.605056</td>\n",
       "      <td>0.540675</td>\n",
       "      <td>0.737040</td>\n",
       "      <td>0.496699</td>\n",
       "      <td>1</td>\n",
       "      <td>-0.293440</td>\n",
       "      <td>-0.906460</td>\n",
       "    </tr>\n",
       "    <tr>\n",
       "      <th>6336</th>\n",
       "      <td>0.329594</td>\n",
       "      <td>3.712889</td>\n",
       "      <td>-5.775935</td>\n",
       "      <td>6.078266</td>\n",
       "      <td>1.667359</td>\n",
       "      <td>-2.420168</td>\n",
       "      <td>-0.812891</td>\n",
       "      <td>0.133080</td>\n",
       "      <td>-2.214311</td>\n",
       "      <td>-5.134454</td>\n",
       "      <td>...</td>\n",
       "      <td>-0.652450</td>\n",
       "      <td>-0.551572</td>\n",
       "      <td>-0.716522</td>\n",
       "      <td>1.415717</td>\n",
       "      <td>0.555265</td>\n",
       "      <td>0.530507</td>\n",
       "      <td>0.404474</td>\n",
       "      <td>1</td>\n",
       "      <td>-0.293440</td>\n",
       "      <td>-0.906366</td>\n",
       "    </tr>\n",
       "    <tr>\n",
       "      <th>6338</th>\n",
       "      <td>0.316459</td>\n",
       "      <td>3.809076</td>\n",
       "      <td>-5.615159</td>\n",
       "      <td>6.047445</td>\n",
       "      <td>1.554026</td>\n",
       "      <td>-2.651353</td>\n",
       "      <td>-0.746579</td>\n",
       "      <td>0.055586</td>\n",
       "      <td>-2.678679</td>\n",
       "      <td>-4.959493</td>\n",
       "      <td>...</td>\n",
       "      <td>-0.511747</td>\n",
       "      <td>-0.583813</td>\n",
       "      <td>-0.219845</td>\n",
       "      <td>1.474753</td>\n",
       "      <td>0.491192</td>\n",
       "      <td>0.518868</td>\n",
       "      <td>0.402528</td>\n",
       "      <td>1</td>\n",
       "      <td>-0.293440</td>\n",
       "      <td>-0.906272</td>\n",
       "    </tr>\n",
       "    <tr>\n",
       "      <th>6427</th>\n",
       "      <td>0.725646</td>\n",
       "      <td>2.300894</td>\n",
       "      <td>-5.329976</td>\n",
       "      <td>4.007683</td>\n",
       "      <td>-1.730411</td>\n",
       "      <td>-1.732193</td>\n",
       "      <td>-3.968593</td>\n",
       "      <td>1.063728</td>\n",
       "      <td>-0.486097</td>\n",
       "      <td>-4.624985</td>\n",
       "      <td>...</td>\n",
       "      <td>0.109541</td>\n",
       "      <td>0.601045</td>\n",
       "      <td>-0.364700</td>\n",
       "      <td>-1.843078</td>\n",
       "      <td>0.351909</td>\n",
       "      <td>0.594550</td>\n",
       "      <td>0.099372</td>\n",
       "      <td>1</td>\n",
       "      <td>-0.293440</td>\n",
       "      <td>-0.905579</td>\n",
       "    </tr>\n",
       "  </tbody>\n",
       "</table>\n",
       "<p>10 rows × 31 columns</p>\n",
       "</div>"
      ],
      "text/plain": [
       "            V1        V2        V3        V4        V5        V6        V7  \\\n",
       "541  -2.312227  1.951992 -1.609851  3.997906 -0.522188 -1.426545 -2.537387   \n",
       "623  -3.043541 -3.157307  1.088463  2.288644  1.359805 -1.064823  0.325574   \n",
       "4920 -2.303350  1.759247 -0.359745  2.330243 -0.821628 -0.075788  0.562320   \n",
       "6108 -4.397974  1.358367 -2.592844  2.679787 -1.128131 -1.706536 -3.496197   \n",
       "6329  1.234235  3.019740 -4.304597  4.732795  3.624201 -1.357746  1.713445   \n",
       "6331  0.008430  4.137837 -6.240697  6.675732  0.768307 -3.353060 -1.631735   \n",
       "6334  0.026779  4.132464 -6.560600  6.348557  1.329666 -2.513479 -1.689102   \n",
       "6336  0.329594  3.712889 -5.775935  6.078266  1.667359 -2.420168 -0.812891   \n",
       "6338  0.316459  3.809076 -5.615159  6.047445  1.554026 -2.651353 -0.746579   \n",
       "6427  0.725646  2.300894 -5.329976  4.007683 -1.730411 -1.732193 -3.968593   \n",
       "\n",
       "            V8        V9       V10  ...       V22       V23       V24  \\\n",
       "541   1.391657 -2.770089 -2.772272  ... -0.035049 -0.465211  0.320198   \n",
       "623  -0.067794 -0.270953 -0.838587  ...  0.435477  1.375966 -0.293803   \n",
       "4920 -0.399147 -0.238253 -1.525412  ... -0.932391  0.172726 -0.087330   \n",
       "6108 -0.248778 -0.247768 -4.801637  ...  0.176968 -0.436207 -0.053502   \n",
       "6329 -0.496358 -1.282858 -2.447469  ... -0.704181 -0.656805 -1.632653   \n",
       "6331  0.154612 -2.795892 -6.187891  ... -0.608057 -0.539528  0.128940   \n",
       "6334  0.303253 -3.139409 -6.045468  ... -0.576752 -0.669605 -0.759908   \n",
       "6336  0.133080 -2.214311 -5.134454  ... -0.652450 -0.551572 -0.716522   \n",
       "6338  0.055586 -2.678679 -4.959493  ... -0.511747 -0.583813 -0.219845   \n",
       "6427  1.063728 -0.486097 -4.624985  ...  0.109541  0.601045 -0.364700   \n",
       "\n",
       "           V25       V26       V27       V28  Class  scaled_amount  \\\n",
       "541   0.044519  0.177840  0.261145 -0.143276      1      -0.307413   \n",
       "623   0.279798 -0.145362 -0.252773  0.035764      1       7.084469   \n",
       "4920 -0.156114 -0.542628  0.039566 -0.153029      1       3.045204   \n",
       "6108  0.252405 -0.657488 -0.827136  0.849573      1       0.517013   \n",
       "6329  1.488901  0.566797 -0.010016  0.146793      1      -0.293440   \n",
       "6331  1.488481  0.507963  0.735822  0.513574      1      -0.293440   \n",
       "6334  1.605056  0.540675  0.737040  0.496699      1      -0.293440   \n",
       "6336  1.415717  0.555265  0.530507  0.404474      1      -0.293440   \n",
       "6338  1.474753  0.491192  0.518868  0.402528      1      -0.293440   \n",
       "6427 -1.843078  0.351909  0.594550  0.099372      1      -0.293440   \n",
       "\n",
       "      scaled_Time  \n",
       "541     -0.990214  \n",
       "623     -0.989438  \n",
       "4920    -0.942563  \n",
       "6108    -0.912910  \n",
       "6329    -0.906648  \n",
       "6331    -0.906566  \n",
       "6334    -0.906460  \n",
       "6336    -0.906366  \n",
       "6338    -0.906272  \n",
       "6427    -0.905579  \n",
       "\n",
       "[10 rows x 31 columns]"
      ]
     },
     "execution_count": 9,
     "metadata": {},
     "output_type": "execute_result"
    }
   ],
   "source": [
    "df2 = pd.concat([fraud,ls], axis = 0)\n",
    "df2.head(10)"
   ]
  },
  {
   "cell_type": "code",
   "execution_count": 10,
   "id": "2615a4d2",
   "metadata": {},
   "outputs": [
    {
     "name": "stderr",
     "output_type": "stream",
     "text": [
      "C:\\Users\\PC\\anaconda3\\envs\\tensorflow\\lib\\site-packages\\seaborn\\_decorators.py:36: FutureWarning: Pass the following variable as a keyword arg: x. From version 0.12, the only valid positional argument will be `data`, and passing other arguments without an explicit keyword will result in an error or misinterpretation.\n",
      "  warnings.warn(\n"
     ]
    },
    {
     "data": {
      "image/png": "[encoded data removed]",
      "text/plain": [
       "<Figure size 432x288 with 1 Axes>"
      ]
     },
     "metadata": {
      "needs_background": "light"
     },
     "output_type": "display_data"
    }
   ],
   "source": [
    "sns.countplot(df2[\"Class\"]);"
   ]
  },
  {
   "cell_type": "markdown",
   "id": "c2a68701",
   "metadata": {},
   "source": [
    "Data Spliting"
   ]
  },
  {
   "cell_type": "code",
   "execution_count": 11,
   "id": "9cbf4f05",
   "metadata": {},
   "outputs": [],
   "source": [
    "#spliting the data for target and features\n",
    "X = df2.drop(columns='Class', axis=1)\n",
    "y = df2.Class"
   ]
  },
  {
   "cell_type": "code",
   "execution_count": 12,
   "id": "ffae934d",
   "metadata": {},
   "outputs": [],
   "source": [
    "from sklearn.model_selection import train_test_split"
   ]
  },
  {
   "cell_type": "code",
   "execution_count": 13,
   "id": "6a5e2696",
   "metadata": {},
   "outputs": [],
   "source": [
    "x_train,x_test,y_train,y_test = train_test_split(X, y, test_size=0.3)\n",
    "x_train1,x_test1,y_train1,y_test1 = train_test_split(X, y, test_size=0.4)\n",
    "x_train2,x_test2,y_train2,y_test2 = train_test_split(X, y, test_size=0.5)\n",
    "x_train3,x_test3,y_train3,y_test3 = train_test_split(X, y, test_size=0.2)"
   ]
  },
  {
   "cell_type": "code",
   "execution_count": 14,
   "id": "76715bfc",
   "metadata": {},
   "outputs": [],
   "source": [
    "from sklearn.ensemble import RandomForestClassifier"
   ]
  },
  {
   "cell_type": "code",
   "execution_count": 15,
   "id": "b1832fdf",
   "metadata": {},
   "outputs": [],
   "source": [
    "rn = RandomForestClassifier(n_estimators=100)\n",
    "rn1 = RandomForestClassifier(n_estimators=100)\n",
    "rn2 = RandomForestClassifier(n_estimators=100)\n",
    "rn3 = RandomForestClassifier(n_estimators=100)"
   ]
  },
  {
   "cell_type": "code",
   "execution_count": 16,
   "id": "50137cf4",
   "metadata": {},
   "outputs": [
    {
     "data": {
      "text/plain": [
       "RandomForestClassifier()"
      ]
     },
     "execution_count": 16,
     "metadata": {},
     "output_type": "execute_result"
    }
   ],
   "source": [
    "rn.fit(x_train,y_train)\n",
    "rn1.fit(x_train1,y_train1)\n",
    "rn2.fit(x_train2,y_train2)\n",
    "rn3.fit(x_train3,y_train3)"
   ]
  },
  {
   "cell_type": "code",
   "execution_count": 17,
   "id": "c2b967a5",
   "metadata": {},
   "outputs": [],
   "source": [
    "pred = rn.predict(x_test)\n",
    "pred1 = rn1.predict(x_test1)\n",
    "pred2 = rn2.predict(x_test2)\n",
    "pred3 = rn3.predict(x_test3)"
   ]
  },
  {
   "cell_type": "code",
   "execution_count": 18,
   "id": "e4cca37d",
   "metadata": {},
   "outputs": [],
   "source": [
    "from sklearn.metrics import classification_report"
   ]
  },
  {
   "cell_type": "code",
   "execution_count": 19,
   "id": "00a47ab2",
   "metadata": {
    "scrolled": true
   },
   "outputs": [
    {
     "name": "stdout",
     "output_type": "stream",
     "text": [
      "              precision    recall  f1-score   support\n",
      "\n",
      "           0       0.87      0.99      0.93       145\n",
      "           1       0.99      0.86      0.92       151\n",
      "\n",
      "    accuracy                           0.93       296\n",
      "   macro avg       0.93      0.93      0.93       296\n",
      "weighted avg       0.93      0.93      0.93       296\n",
      "\n"
     ]
    }
   ],
   "source": [
    "print(classification_report(y_test, pred))"
   ]
  },
  {
   "cell_type": "code",
   "execution_count": 20,
   "id": "86ab0ef0",
   "metadata": {},
   "outputs": [
    {
     "name": "stdout",
     "output_type": "stream",
     "text": [
      "              precision    recall  f1-score   support\n",
      "\n",
      "           0       0.92      0.99      0.96       185\n",
      "           1       0.99      0.92      0.96       209\n",
      "\n",
      "    accuracy                           0.96       394\n",
      "   macro avg       0.96      0.96      0.96       394\n",
      "weighted avg       0.96      0.96      0.96       394\n",
      "\n"
     ]
    }
   ],
   "source": [
    "print(classification_report(y_test1, pred1))"
   ]
  },
  {
   "cell_type": "code",
   "execution_count": 21,
   "id": "d094bd56",
   "metadata": {},
   "outputs": [
    {
     "name": "stdout",
     "output_type": "stream",
     "text": [
      "              precision    recall  f1-score   support\n",
      "\n",
      "           0       0.94      0.97      0.95       246\n",
      "           1       0.97      0.93      0.95       246\n",
      "\n",
      "    accuracy                           0.95       492\n",
      "   macro avg       0.95      0.95      0.95       492\n",
      "weighted avg       0.95      0.95      0.95       492\n",
      "\n"
     ]
    }
   ],
   "source": [
    "print(classification_report(y_test2, pred2))"
   ]
  },
  {
   "cell_type": "code",
   "execution_count": 22,
   "id": "dd449cb0",
   "metadata": {},
   "outputs": [
    {
     "name": "stdout",
     "output_type": "stream",
     "text": [
      "              precision    recall  f1-score   support\n",
      "\n",
      "           0       0.95      0.93      0.94       106\n",
      "           1       0.92      0.95      0.93        91\n",
      "\n",
      "    accuracy                           0.94       197\n",
      "   macro avg       0.94      0.94      0.94       197\n",
      "weighted avg       0.94      0.94      0.94       197\n",
      "\n"
     ]
    }
   ],
   "source": [
    "print(classification_report(y_test3, pred3))"
   ]
  },
  {
   "cell_type": "code",
   "execution_count": 23,
   "id": "2d07b57f",
   "metadata": {},
   "outputs": [],
   "source": [
    "from sklearn.metrics import confusion_matrix, plot_confusion_matrix"
   ]
  },
  {
   "cell_type": "code",
   "execution_count": 24,
   "id": "8bf0e38e",
   "metadata": {},
   "outputs": [
    {
     "data": {
      "image/png": "[encoded data removed]",
      "text/plain": [
       "<Figure size 576x576 with 1 Axes>"
      ]
     },
     "metadata": {
      "needs_background": "light"
     },
     "output_type": "display_data"
    }
   ],
   "source": [
    "conf_matrix = confusion_matrix(y_true=y_test, y_pred=pred)\n",
    "fig, ax = plt.subplots(figsize=(8, 8))\n",
    "ax.matshow(conf_matrix, cmap=plt.cm.Blues, alpha=0.4)\n",
    "for i in range(conf_matrix.shape[0]):\n",
    "    for j in range(conf_matrix.shape[1]): \n",
    "        ax.text(x=j, y=i,s=conf_matrix[i, j],va='center',ha='center',size='xx-large')\n",
    "plt.xlabel('Prediction',fontsize=10)\n",
    "plt.ylabel('True',fontsize=20)\n",
    "plt.title('Confusion Matrix', fontsize=20)\n",
    "plt.show()"
   ]
  },
  {
   "cell_type": "code",
   "execution_count": 25,
   "id": "5d977802",
   "metadata": {},
   "outputs": [
    {
     "data": {
      "image/png": "[encoded data removed]",
      "text/plain": [
       "<Figure size 576x576 with 1 Axes>"
      ]
     },
     "metadata": {
      "needs_background": "light"
     },
     "output_type": "display_data"
    }
   ],
   "source": [
    "conf_matrix = confusion_matrix(y_true=y_test1, y_pred=pred1)\n",
    "fig, ax = plt.subplots(figsize=(8, 8))\n",
    "ax.matshow(conf_matrix, cmap=plt.cm.Blues, alpha=0.4)\n",
    "for i in range(conf_matrix.shape[0]):\n",
    "    for j in range(conf_matrix.shape[1]): \n",
    "        ax.text(x=j, y=i,s=conf_matrix[i, j],va='center',ha='center',size='xx-large')\n",
    "plt.xlabel('Prediction',fontsize=10)\n",
    "plt.ylabel('True',fontsize=20)\n",
    "plt.title('Confusion Matrix', fontsize=20)\n",
    "plt.show()"
   ]
  },
  {
   "cell_type": "code",
   "execution_count": 26,
   "id": "f35fec33",
   "metadata": {},
   "outputs": [
    {
     "data": {
      "image/png": "[encoded data removed]",
      "text/plain": [
       "<Figure size 576x576 with 1 Axes>"
      ]
     },
     "metadata": {
      "needs_background": "light"
     },
     "output_type": "display_data"
    }
   ],
   "source": [
    "conf_matrix = confusion_matrix(y_true=y_test2, y_pred=pred2)\n",
    "fig, ax = plt.subplots(figsize=(8, 8))\n",
    "ax.matshow(conf_matrix, cmap=plt.cm.Blues, alpha=0.4)\n",
    "for i in range(conf_matrix.shape[0]):\n",
    "    for j in range(conf_matrix.shape[1]): \n",
    "        ax.text(x=j, y=i,s=conf_matrix[i, j],va='center',ha='center',size='xx-large')\n",
    "plt.xlabel('Prediction',fontsize=10)\n",
    "plt.ylabel('True',fontsize=20)\n",
    "plt.title('Confusion Matrix', fontsize=20)\n",
    "plt.show()"
   ]
  },
  {
   "cell_type": "code",
   "execution_count": 27,
   "id": "16b547f9",
   "metadata": {},
   "outputs": [
    {
     "data": {
      "image/png": "[encoded data removed]",
      "text/plain": [
       "<Figure size 576x576 with 1 Axes>"
      ]
     },
     "metadata": {
      "needs_background": "light"
     },
     "output_type": "display_data"
    }
   ],
   "source": [
    "conf_matrix = confusion_matrix(y_true=y_test3, y_pred=pred3)\n",
    "fig, ax = plt.subplots(figsize=(8, 8))\n",
    "ax.matshow(conf_matrix, cmap=plt.cm.Blues, alpha=0.4)\n",
    "for i in range(conf_matrix.shape[0]):\n",
    "    for j in range(conf_matrix.shape[1]): \n",
    "        ax.text(x=j, y=i,s=conf_matrix[i, j],va='center',ha='center',size='xx-large')\n",
    "plt.xlabel('Prediction',fontsize=10)\n",
    "plt.ylabel('True',fontsize=20)\n",
    "plt.title('Confusion Matrix', fontsize=20)\n",
    "plt.show()"
   ]
  },
  {
   "cell_type": "code",
   "execution_count": 28,
   "id": "a447d2a3",
   "metadata": {},
   "outputs": [],
   "source": [
    "#Support Vector Machine\n",
    "from sklearn.svm import SVC\n",
    "svm = SVC()\n",
    "svm.fit(x_train,y_train)\n",
    "final_pred1 = svm.predict(x_test)"
   ]
  },
  {
   "cell_type": "markdown",
   "id": "e49586f9",
   "metadata": {},
   "source": [
    "# TESTING WITH DEEP LEARNING ALGORITHMS USING OVERSAMPLED DATA"
   ]
  },
  {
   "cell_type": "code",
   "execution_count": 29,
   "id": "8d71f728",
   "metadata": {},
   "outputs": [
    {
     "name": "stdout",
     "output_type": "stream",
     "text": [
      "              precision    recall  f1-score   support\n",
      "\n",
      "           0       0.85      0.99      0.91       145\n",
      "           1       0.99      0.83      0.90       151\n",
      "\n",
      "    accuracy                           0.91       296\n",
      "   macro avg       0.92      0.91      0.91       296\n",
      "weighted avg       0.92      0.91      0.91       296\n",
      "\n"
     ]
    }
   ],
   "source": [
    "print(classification_report(y_test, final_pred1))"
   ]
  },
  {
   "cell_type": "code",
   "execution_count": 30,
   "id": "d66da9c5",
   "metadata": {},
   "outputs": [],
   "source": [
    "#spliting the data for target and features\n",
    "X1 = df.drop(columns='Class', axis=1)\n",
    "y1 = df.Class"
   ]
  },
  {
   "cell_type": "code",
   "execution_count": 31,
   "id": "9ea4f541",
   "metadata": {},
   "outputs": [
    {
     "name": "stdout",
     "output_type": "stream",
     "text": [
      "[(0, 284315), (1, 284315)]\n"
     ]
    }
   ],
   "source": [
    "#Solving the problem of imbalnce with oversampling\n",
    "from imblearn.over_sampling import RandomOverSampler\n",
    "ros = RandomOverSampler(random_state=0)\n",
    "X_sampled, Y_sampled = ros.fit_resample(X1, y1)\n",
    "from collections import Counter\n",
    "print(sorted(Counter(Y_sampled).items()))"
   ]
  },
  {
   "cell_type": "code",
   "execution_count": 32,
   "id": "4321ab57",
   "metadata": {},
   "outputs": [],
   "source": [
    "new_x_train,new_x_test,new_y_train,new_y_test = train_test_split(X_sampled, Y_sampled, test_size=0.3)"
   ]
  },
  {
   "cell_type": "code",
   "execution_count": 33,
   "id": "6ff31826",
   "metadata": {},
   "outputs": [],
   "source": [
    "# for RNN\n",
    "from keras.callbacks import EarlyStopping\n",
    "from keras.utils import np_utils\n",
    "from keras.callbacks import ModelCheckpoint\n",
    "from keras.models import Sequential\n",
    "from keras.utils import np_utils\n",
    "from keras.layers import LSTM, Dense, Embedding, Dropout,Input, Activation\n",
    "from keras.layers import Dense, Activation\n",
    "from keras.models import Sequential\n",
    "from keras import backend as K, regularizers, Model, metrics\n",
    "from keras.backend import cast"
   ]
  },
  {
   "cell_type": "code",
   "execution_count": 34,
   "id": "e5b295f3",
   "metadata": {},
   "outputs": [],
   "source": [
    "rnn_train_x = new_x_train.values.reshape(-1, 1, 30)\n",
    "rnn_test_x = new_x_test.values.reshape(-1, 1, 30)"
   ]
  },
  {
   "cell_type": "code",
   "execution_count": 35,
   "id": "6ebec2f4",
   "metadata": {},
   "outputs": [
    {
     "data": {
      "text/plain": [
       "(398041, 1, 30)"
      ]
     },
     "execution_count": 35,
     "metadata": {},
     "output_type": "execute_result"
    }
   ],
   "source": [
    "rnn_train_x.shape"
   ]
  },
  {
   "cell_type": "code",
   "execution_count": 36,
   "id": "c55a96e9",
   "metadata": {},
   "outputs": [
    {
     "data": {
      "text/plain": [
       "(398041,)"
      ]
     },
     "execution_count": 36,
     "metadata": {},
     "output_type": "execute_result"
    }
   ],
   "source": [
    "new_y_train.shape"
   ]
  },
  {
   "cell_type": "code",
   "execution_count": 37,
   "id": "af021830",
   "metadata": {},
   "outputs": [],
   "source": [
    "input_shape=Input((1,30))\n",
    "layer_1=LSTM(50,dropout=0.3,recurrent_dropout=0.2, return_sequences=True)(input_shape)\n",
    "layer_2=LSTM(50,dropout=0.3,recurrent_dropout=0.2)(layer_1)\n",
    "output=Dense(1,activation='sigmoid')(layer_2)\n",
    "model=Model(input_shape,output)"
   ]
  },
  {
   "cell_type": "code",
   "execution_count": 38,
   "id": "5c1c3b47",
   "metadata": {},
   "outputs": [],
   "source": [
    "model.compile(loss='binary_crossentropy', optimizer='adam', metrics=['accuracy'])"
   ]
  },
  {
   "cell_type": "code",
   "execution_count": 39,
   "id": "b02569dd",
   "metadata": {},
   "outputs": [
    {
     "name": "stdout",
     "output_type": "stream",
     "text": [
      "Epoch 1/10\n",
      "200/200 [==============================] - 25s 54ms/step - loss: 0.2921 - accuracy: 0.9093 - val_loss: 0.1083 - val_accuracy: 0.9560\n",
      "Epoch 2/10\n",
      "200/200 [==============================] - 9s 44ms/step - loss: 0.1190 - accuracy: 0.9530 - val_loss: 0.0737 - val_accuracy: 0.9695\n",
      "Epoch 3/10\n",
      "200/200 [==============================] - 9s 45ms/step - loss: 0.0970 - accuracy: 0.9599 - val_loss: 0.0576 - val_accuracy: 0.9760\n",
      "Epoch 4/10\n",
      "200/200 [==============================] - 9s 44ms/step - loss: 0.0849 - accuracy: 0.9646 - val_loss: 0.0468 - val_accuracy: 0.9787\n",
      "Epoch 5/10\n",
      "200/200 [==============================] - 9s 45ms/step - loss: 0.0779 - accuracy: 0.9675 - val_loss: 0.0408 - val_accuracy: 0.9834\n",
      "Epoch 6/10\n",
      "200/200 [==============================] - 9s 45ms/step - loss: 0.0713 - accuracy: 0.9705 - val_loss: 0.0361 - val_accuracy: 0.9854\n",
      "Epoch 7/10\n",
      "200/200 [==============================] - 9s 46ms/step - loss: 0.0668 - accuracy: 0.9724 - val_loss: 0.0322 - val_accuracy: 0.9890\n",
      "Epoch 8/10\n",
      "200/200 [==============================] - 9s 46ms/step - loss: 0.0631 - accuracy: 0.9744 - val_loss: 0.0295 - val_accuracy: 0.9908\n",
      "Epoch 9/10\n",
      "200/200 [==============================] - 9s 47ms/step - loss: 0.0586 - accuracy: 0.9763 - val_loss: 0.0267 - val_accuracy: 0.9925\n",
      "Epoch 10/10\n",
      "200/200 [==============================] - 10s 48ms/step - loss: 0.0544 - accuracy: 0.9782 - val_loss: 0.0246 - val_accuracy: 0.9923\n"
     ]
    }
   ],
   "source": [
    "history=model.fit(rnn_train_x , new_y_train,epochs=10,batch_size=2000, validation_data=(rnn_test_x , new_y_test))"
   ]
  },
  {
   "cell_type": "code",
   "execution_count": 40,
   "id": "7554341c",
   "metadata": {},
   "outputs": [
    {
     "data": {
      "image/png": "[encoded data removed]",
      "text/plain": [
       "<Figure size 432x288 with 1 Axes>"
      ]
     },
     "metadata": {
      "needs_background": "light"
     },
     "output_type": "display_data"
    },
    {
     "data": {
      "image/png": "[encoded data removed]",
      "text/plain": [
       "<Figure size 432x288 with 1 Axes>"
      ]
     },
     "metadata": {
      "needs_background": "light"
     },
     "output_type": "display_data"
    }
   ],
   "source": [
    "import matplotlib.pyplot as plt\n",
    "plt.plot(history.history['accuracy'])\n",
    "plt.plot(history.history['val_accuracy'])\n",
    "plt.title('model accuracy')\n",
    "plt.ylabel('accuracy')\n",
    "plt.xlabel('epoch')\n",
    "plt.legend(['train', 'test'], loc='upper left')\n",
    "plt.grid()\n",
    "plt.savefig(\"accuracy.png\")\n",
    "plt.show()\n",
    "\n",
    "plt.plot(history.history['loss'])\n",
    "plt.plot(history.history['val_loss'])\n",
    "plt.title('model loss')\n",
    "plt.ylabel('loss')\n",
    "plt.xlabel('epoch')\n",
    "plt.legend(['train', 'test'], loc='upper left')\n",
    "plt.grid()\n",
    "plt.savefig(\"loss.png\")\n",
    "plt.show()"
   ]
  },
  {
   "cell_type": "code",
   "execution_count": 41,
   "id": "e076fa4b",
   "metadata": {},
   "outputs": [],
   "source": [
    "rnn_pred = model.predict(rnn_test_x)"
   ]
  },
  {
   "cell_type": "code",
   "execution_count": 42,
   "id": "de8695e0",
   "metadata": {},
   "outputs": [],
   "source": [
    "for i in range(len(rnn_pred)):\n",
    "    if rnn_pred[i]>0.5:\n",
    "        rnn_pred[i]=1\n",
    "    elif rnn_pred[i]<=0.5:\n",
    "        rnn_pred[i]=0"
   ]
  },
  {
   "cell_type": "code",
   "execution_count": 43,
   "id": "b85ede4f",
   "metadata": {},
   "outputs": [
    {
     "name": "stdout",
     "output_type": "stream",
     "text": [
      "              precision    recall  f1-score   support\n",
      "\n",
      "           0       1.00      0.99      0.99     85549\n",
      "           1       0.99      1.00      0.99     85040\n",
      "\n",
      "    accuracy                           0.99    170589\n",
      "   macro avg       0.99      0.99      0.99    170589\n",
      "weighted avg       0.99      0.99      0.99    170589\n",
      "\n"
     ]
    }
   ],
   "source": [
    "print(classification_report(new_y_test, rnn_pred))"
   ]
  },
  {
   "cell_type": "markdown",
   "id": "7b7b42e6",
   "metadata": {},
   "source": [
    "# FOR CNN on LARGE DATA"
   ]
  },
  {
   "cell_type": "code",
   "execution_count": 44,
   "id": "a7f77ab8",
   "metadata": {},
   "outputs": [],
   "source": [
    "from keras import layers\n",
    "from keras.wrappers.scikit_learn import KerasClassifier"
   ]
  },
  {
   "cell_type": "code",
   "execution_count": 45,
   "id": "d27a0e55",
   "metadata": {},
   "outputs": [],
   "source": [
    "input_dim = new_x_train.shape[1]  # Number of features\n",
    "\n",
    "model = Sequential()\n",
    "model.add(layers.Dense(20, input_dim=input_dim, activation='relu'))\n",
    "model.add(layers.Dense(10,  activation='tanh'))\n",
    "model.add(layers.Dense(1024, activation='relu'))\n",
    "\n",
    "model.add(layers.BatchNormalization())\n",
    "model.add(layers.Dropout(0.5))\n",
    "model.add(layers.Dense(1, activation='sigmoid'))"
   ]
  },
  {
   "cell_type": "code",
   "execution_count": 46,
   "id": "faf92b66",
   "metadata": {},
   "outputs": [
    {
     "name": "stdout",
     "output_type": "stream",
     "text": [
      "Model: \"sequential\"\n",
      "_________________________________________________________________\n",
      "Layer (type)                 Output Shape              Param #   \n",
      "=================================================================\n",
      "dense_1 (Dense)              (None, 20)                620       \n",
      "_________________________________________________________________\n",
      "dense_2 (Dense)              (None, 10)                210       \n",
      "_________________________________________________________________\n",
      "dense_3 (Dense)              (None, 1024)              11264     \n",
      "_________________________________________________________________\n",
      "batch_normalization (BatchNo (None, 1024)              4096      \n",
      "_________________________________________________________________\n",
      "dropout (Dropout)            (None, 1024)              0         \n",
      "_________________________________________________________________\n",
      "dense_4 (Dense)              (None, 1)                 1025      \n",
      "=================================================================\n",
      "Total params: 17,215\n",
      "Trainable params: 15,167\n",
      "Non-trainable params: 2,048\n",
      "_________________________________________________________________\n"
     ]
    }
   ],
   "source": [
    "model.compile(loss='binary_crossentropy', \n",
    "              optimizer='adam', \n",
    "              metrics=['accuracy'])\n",
    "model.summary()"
   ]
  },
  {
   "cell_type": "code",
   "execution_count": 47,
   "id": "ae60eb60",
   "metadata": {},
   "outputs": [
    {
     "name": "stdout",
     "output_type": "stream",
     "text": [
      "Epoch 1/10\n",
      "200/200 [==============================] - 25s 112ms/step - loss: 0.1344 - accuracy: 0.9457 - val_loss: 0.3368 - val_accuracy: 0.8940\n",
      "Epoch 2/10\n",
      "200/200 [==============================] - 21s 106ms/step - loss: 0.0466 - accuracy: 0.9828 - val_loss: 0.0719 - val_accuracy: 0.9826\n",
      "Epoch 3/10\n",
      "200/200 [==============================] - 20s 99ms/step - loss: 0.0243 - accuracy: 0.9933 - val_loss: 0.0280 - val_accuracy: 0.9940\n",
      "Epoch 4/10\n",
      "200/200 [==============================] - 19s 95ms/step - loss: 0.0163 - accuracy: 0.9960 - val_loss: 0.0135 - val_accuracy: 0.9986\n",
      "Epoch 5/10\n",
      "200/200 [==============================] - 19s 95ms/step - loss: 0.0120 - accuracy: 0.9972 - val_loss: 0.0079 - val_accuracy: 0.9987\n",
      "Epoch 6/10\n",
      "200/200 [==============================] - 19s 95ms/step - loss: 0.0090 - accuracy: 0.9980 - val_loss: 0.0070 - val_accuracy: 0.9985\n",
      "Epoch 7/10\n",
      "200/200 [==============================] - 18s 92ms/step - loss: 0.0067 - accuracy: 0.9987 - val_loss: 0.0051 - val_accuracy: 0.9991\n",
      "Epoch 8/10\n",
      "200/200 [==============================] - 21s 103ms/step - loss: 0.0059 - accuracy: 0.9988 - val_loss: 0.0050 - val_accuracy: 0.9989\n",
      "Epoch 9/10\n",
      "200/200 [==============================] - 22s 108ms/step - loss: 0.0054 - accuracy: 0.9989 - val_loss: 0.0044 - val_accuracy: 0.9991\n",
      "Epoch 10/10\n",
      "200/200 [==============================] - 20s 102ms/step - loss: 0.0045 - accuracy: 0.9991 - val_loss: 0.0038 - val_accuracy: 0.9992\n"
     ]
    }
   ],
   "source": [
    "history = model.fit(new_x_train,new_y_train,\n",
    "                    epochs=10,\n",
    "                    verbose=True,\n",
    "                    validation_data=(new_x_test, new_y_test),\n",
    "                    batch_size=2000)\n"
   ]
  },
  {
   "cell_type": "code",
   "execution_count": 48,
   "id": "19f347c2",
   "metadata": {},
   "outputs": [],
   "source": [
    "cnn_pred = model.predict(new_x_test)"
   ]
  },
  {
   "cell_type": "code",
   "execution_count": 49,
   "id": "d22f1a76",
   "metadata": {},
   "outputs": [],
   "source": [
    "for i in range(len(cnn_pred)):\n",
    "    if cnn_pred[i]>0.5:\n",
    "        cnn_pred[i]=1\n",
    "    elif cnn_pred[i]<=0.5:\n",
    "        cnn_pred[i]=0"
   ]
  },
  {
   "cell_type": "code",
   "execution_count": 50,
   "id": "1b113e79",
   "metadata": {},
   "outputs": [
    {
     "name": "stdout",
     "output_type": "stream",
     "text": [
      "              precision    recall  f1-score   support\n",
      "\n",
      "           0       1.00      1.00      1.00     85549\n",
      "           1       1.00      1.00      1.00     85040\n",
      "\n",
      "    accuracy                           1.00    170589\n",
      "   macro avg       1.00      1.00      1.00    170589\n",
      "weighted avg       1.00      1.00      1.00    170589\n",
      "\n"
     ]
    }
   ],
   "source": [
    "print(classification_report(new_y_test, cnn_pred))"
   ]
  },
  {
   "cell_type": "markdown",
   "id": "13c388a9",
   "metadata": {},
   "source": [
    "# TRAINING RNN ON THE REDUCED DATASET"
   ]
  },
  {
   "cell_type": "code",
   "execution_count": 51,
   "id": "a963deb1",
   "metadata": {},
   "outputs": [],
   "source": [
    "reduced_rnn_train_x = x_train.values.reshape(-1, 1, 30)\n",
    "reduced_rnn_test_x =  x_test.values.reshape(-1, 1, 30)"
   ]
  },
  {
   "cell_type": "code",
   "execution_count": 53,
   "id": "ccfa6af7",
   "metadata": {},
   "outputs": [],
   "source": [
    "input_shape1=Input((1,30))\n",
    "layer_1=LSTM(50,dropout=0.3,recurrent_dropout=0.2, return_sequences=True)(input_shape1)\n",
    "layer_2=LSTM(50,dropout=0.3,recurrent_dropout=0.2)(layer_1)\n",
    "output=Dense(1,activation='sigmoid')(layer_2)\n",
    "model=Model(input_shape1,output)"
   ]
  },
  {
   "cell_type": "code",
   "execution_count": 54,
   "id": "8759d213",
   "metadata": {},
   "outputs": [],
   "source": [
    "model.compile(loss='binary_crossentropy', optimizer='adam', metrics=['accuracy'])"
   ]
  },
  {
   "cell_type": "code",
   "execution_count": 55,
   "id": "6703968b",
   "metadata": {},
   "outputs": [
    {
     "name": "stdout",
     "output_type": "stream",
     "text": [
      "Epoch 1/10\n",
      "1/1 [==============================] - 11s 11s/step - loss: 0.6917 - accuracy: 0.5465 - val_loss: 0.6855 - val_accuracy: 0.7196\n",
      "Epoch 2/10\n",
      "1/1 [==============================] - 0s 60ms/step - loss: 0.6868 - accuracy: 0.6337 - val_loss: 0.6804 - val_accuracy: 0.7432\n",
      "Epoch 3/10\n",
      "1/1 [==============================] - 0s 58ms/step - loss: 0.6821 - accuracy: 0.6933 - val_loss: 0.6752 - val_accuracy: 0.7568\n",
      "Epoch 4/10\n",
      "1/1 [==============================] - 0s 61ms/step - loss: 0.6781 - accuracy: 0.7427 - val_loss: 0.6699 - val_accuracy: 0.7872\n",
      "Epoch 5/10\n",
      "1/1 [==============================] - 0s 55ms/step - loss: 0.6735 - accuracy: 0.7573 - val_loss: 0.6644 - val_accuracy: 0.8007\n",
      "Epoch 6/10\n",
      "1/1 [==============================] - 0s 60ms/step - loss: 0.6699 - accuracy: 0.7922 - val_loss: 0.6587 - val_accuracy: 0.8176\n",
      "Epoch 7/10\n",
      "1/1 [==============================] - 0s 60ms/step - loss: 0.6652 - accuracy: 0.7863 - val_loss: 0.6528 - val_accuracy: 0.8209\n",
      "Epoch 8/10\n",
      "1/1 [==============================] - 0s 58ms/step - loss: 0.6596 - accuracy: 0.8110 - val_loss: 0.6465 - val_accuracy: 0.8277\n",
      "Epoch 9/10\n",
      "1/1 [==============================] - 0s 57ms/step - loss: 0.6543 - accuracy: 0.8299 - val_loss: 0.6400 - val_accuracy: 0.8311\n",
      "Epoch 10/10\n",
      "1/1 [==============================] - 0s 64ms/step - loss: 0.6488 - accuracy: 0.8358 - val_loss: 0.6331 - val_accuracy: 0.8311\n"
     ]
    }
   ],
   "source": [
    "history=model.fit(reduced_rnn_train_x , y_train,epochs=10,batch_size=2000, validation_data=(reduced_rnn_test_x , y_test))"
   ]
  },
  {
   "cell_type": "code",
   "execution_count": 56,
   "id": "ad813bec",
   "metadata": {},
   "outputs": [
    {
     "data": {
      "image/png": "[encoded data removed]",
      "text/plain": [
       "<Figure size 432x288 with 1 Axes>"
      ]
     },
     "metadata": {
      "needs_background": "light"
     },
     "output_type": "display_data"
    },
    {
     "data": {
      "image/png": "[encoded data removed]",
      "text/plain": [
       "<Figure size 432x288 with 1 Axes>"
      ]
     },
     "metadata": {
      "needs_background": "light"
     },
     "output_type": "display_data"
    }
   ],
   "source": [
    "import matplotlib.pyplot as plt\n",
    "plt.plot(history.history['accuracy'])\n",
    "plt.plot(history.history['val_accuracy'])\n",
    "plt.title('model accuracy')\n",
    "plt.ylabel('accuracy')\n",
    "plt.xlabel('epoch')\n",
    "plt.legend(['train', 'test'], loc='upper left')\n",
    "plt.grid()\n",
    "plt.savefig(\"accuracy.png\")\n",
    "plt.show()\n",
    "\n",
    "plt.plot(history.history['loss'])\n",
    "plt.plot(history.history['val_loss'])\n",
    "plt.title('model loss')\n",
    "plt.ylabel('loss')\n",
    "plt.xlabel('epoch')\n",
    "plt.legend(['train', 'test'], loc='upper left')\n",
    "plt.grid()\n",
    "plt.savefig(\"loss.png\")\n",
    "plt.show()"
   ]
  },
  {
   "cell_type": "code",
   "execution_count": 57,
   "id": "51de818a",
   "metadata": {},
   "outputs": [],
   "source": [
    "reduced_rnn_pred = model.predict(reduced_rnn_test_x)"
   ]
  },
  {
   "cell_type": "code",
   "execution_count": 61,
   "id": "394a3587",
   "metadata": {},
   "outputs": [],
   "source": [
    "for i in range(len(reduced_rnn_pred)):\n",
    "    if reduced_rnn_pred[i]>0.5:\n",
    "        reduced_rnn_pred[i]=1\n",
    "    elif reduced_rnn_pred[i]<=0.5:\n",
    "        reduced_rnn_pred[i]=0"
   ]
  },
  {
   "cell_type": "code",
   "execution_count": 62,
   "id": "2e3786e6",
   "metadata": {},
   "outputs": [
    {
     "name": "stdout",
     "output_type": "stream",
     "text": [
      "              precision    recall  f1-score   support\n",
      "\n",
      "           0       0.81      0.85      0.83       145\n",
      "           1       0.85      0.81      0.83       151\n",
      "\n",
      "    accuracy                           0.83       296\n",
      "   macro avg       0.83      0.83      0.83       296\n",
      "weighted avg       0.83      0.83      0.83       296\n",
      "\n"
     ]
    }
   ],
   "source": [
    "print(classification_report(y_test, reduced_rnn_pred))"
   ]
  },
  {
   "cell_type": "markdown",
   "id": "ea52b8d1",
   "metadata": {},
   "source": [
    "# Training CNN model on the reduced data"
   ]
  },
  {
   "cell_type": "code",
   "execution_count": 63,
   "id": "d2bcd736",
   "metadata": {},
   "outputs": [],
   "source": [
    "input_dim1 = x_train.shape[1]  # Number of features\n",
    "\n",
    "model = Sequential()\n",
    "model.add(layers.Dense(20, input_dim=input_dim1, activation='relu'))\n",
    "model.add(layers.Dense(10,  activation='tanh'))\n",
    "model.add(layers.Dense(1024, activation='relu'))\n",
    "\n",
    "model.add(layers.BatchNormalization())\n",
    "model.add(layers.Dropout(0.5))\n",
    "model.add(layers.Dense(1, activation='sigmoid'))"
   ]
  },
  {
   "cell_type": "code",
   "execution_count": 64,
   "id": "36dd8836",
   "metadata": {},
   "outputs": [
    {
     "name": "stdout",
     "output_type": "stream",
     "text": [
      "Model: \"sequential_1\"\n",
      "_________________________________________________________________\n",
      "Layer (type)                 Output Shape              Param #   \n",
      "=================================================================\n",
      "dense_7 (Dense)              (None, 20)                620       \n",
      "_________________________________________________________________\n",
      "dense_8 (Dense)              (None, 10)                210       \n",
      "_________________________________________________________________\n",
      "dense_9 (Dense)              (None, 1024)              11264     \n",
      "_________________________________________________________________\n",
      "batch_normalization_1 (Batch (None, 1024)              4096      \n",
      "_________________________________________________________________\n",
      "dropout_1 (Dropout)          (None, 1024)              0         \n",
      "_________________________________________________________________\n",
      "dense_10 (Dense)             (None, 1)                 1025      \n",
      "=================================================================\n",
      "Total params: 17,215\n",
      "Trainable params: 15,167\n",
      "Non-trainable params: 2,048\n",
      "_________________________________________________________________\n"
     ]
    }
   ],
   "source": [
    "model.compile(loss='binary_crossentropy', \n",
    "              optimizer='adam', \n",
    "              metrics=['accuracy'])\n",
    "model.summary()"
   ]
  },
  {
   "cell_type": "code",
   "execution_count": 65,
   "id": "47e7831c",
   "metadata": {},
   "outputs": [
    {
     "name": "stdout",
     "output_type": "stream",
     "text": [
      "Epoch 1/10\n",
      "1/1 [==============================] - 2s 2s/step - loss: 1.1266 - accuracy: 0.4113 - val_loss: 0.6798 - val_accuracy: 0.7601\n",
      "Epoch 2/10\n",
      "1/1 [==============================] - 0s 81ms/step - loss: 0.6959 - accuracy: 0.6555 - val_loss: 0.6557 - val_accuracy: 0.7669\n",
      "Epoch 3/10\n",
      "1/1 [==============================] - 0s 77ms/step - loss: 0.5395 - accuracy: 0.7602 - val_loss: 0.6360 - val_accuracy: 0.7601\n",
      "Epoch 4/10\n",
      "1/1 [==============================] - 0s 80ms/step - loss: 0.4188 - accuracy: 0.8227 - val_loss: 0.6201 - val_accuracy: 0.7399\n",
      "Epoch 5/10\n",
      "1/1 [==============================] - 0s 82ms/step - loss: 0.3754 - accuracy: 0.8488 - val_loss: 0.6083 - val_accuracy: 0.6993\n",
      "Epoch 6/10\n",
      "1/1 [==============================] - 0s 82ms/step - loss: 0.3474 - accuracy: 0.8706 - val_loss: 0.5996 - val_accuracy: 0.6622\n",
      "Epoch 7/10\n",
      "1/1 [==============================] - 0s 104ms/step - loss: 0.2945 - accuracy: 0.8910 - val_loss: 0.5935 - val_accuracy: 0.6115\n",
      "Epoch 8/10\n",
      "1/1 [==============================] - 0s 100ms/step - loss: 0.2859 - accuracy: 0.8852 - val_loss: 0.5897 - val_accuracy: 0.5642\n",
      "Epoch 9/10\n",
      "1/1 [==============================] - 0s 104ms/step - loss: 0.2558 - accuracy: 0.9041 - val_loss: 0.5877 - val_accuracy: 0.5405\n",
      "Epoch 10/10\n",
      "1/1 [==============================] - 0s 98ms/step - loss: 0.2484 - accuracy: 0.9084 - val_loss: 0.5875 - val_accuracy: 0.5236\n"
     ]
    }
   ],
   "source": [
    "history = model.fit(x_train,y_train,\n",
    "                    epochs=10,\n",
    "                    verbose=True,\n",
    "                    validation_data=(x_test, y_test),\n",
    "                    batch_size=2000)\n"
   ]
  },
  {
   "cell_type": "code",
   "execution_count": 66,
   "id": "647414d5",
   "metadata": {},
   "outputs": [
    {
     "data": {
      "image/png": "[encoded data removed]",
      "text/plain": [
       "<Figure size 432x288 with 1 Axes>"
      ]
     },
     "metadata": {
      "needs_background": "light"
     },
     "output_type": "display_data"
    },
    {
     "data": {
      "image/png": "[encoded data removed]",
      "text/plain": [
       "<Figure size 432x288 with 1 Axes>"
      ]
     },
     "metadata": {
      "needs_background": "light"
     },
     "output_type": "display_data"
    }
   ],
   "source": [
    "import matplotlib.pyplot as plt\n",
    "plt.plot(history.history['accuracy'])\n",
    "plt.plot(history.history['val_accuracy'])\n",
    "plt.title('model accuracy')\n",
    "plt.ylabel('accuracy')\n",
    "plt.xlabel('epoch')\n",
    "plt.legend(['train', 'test'], loc='upper left')\n",
    "plt.grid()\n",
    "plt.savefig(\"accuracy.png\")\n",
    "plt.show()\n",
    "\n",
    "plt.plot(history.history['loss'])\n",
    "plt.plot(history.history['val_loss'])\n",
    "plt.title('model loss')\n",
    "plt.ylabel('loss')\n",
    "plt.xlabel('epoch')\n",
    "plt.legend(['train', 'test'], loc='upper left')\n",
    "plt.grid()\n",
    "plt.savefig(\"loss.png\")\n",
    "plt.show()"
   ]
  },
  {
   "cell_type": "code",
   "execution_count": 67,
   "id": "a950f4aa",
   "metadata": {},
   "outputs": [],
   "source": [
    "reduced_cnn_pred = model.predict(x_test)"
   ]
  },
  {
   "cell_type": "code",
   "execution_count": 68,
   "id": "a70b19fe",
   "metadata": {},
   "outputs": [],
   "source": [
    "for i in range(len(reduced_cnn_pred)):\n",
    "    if reduced_cnn_pred[i]>0.5:\n",
    "        reduced_cnn_pred[i]=1\n",
    "    elif reduced_cnn_pred[i]<=0.5:\n",
    "        reduced_cnn_pred[i]=0"
   ]
  },
  {
   "cell_type": "code",
   "execution_count": 69,
   "id": "732bd405",
   "metadata": {},
   "outputs": [
    {
     "name": "stdout",
     "output_type": "stream",
     "text": [
      "              precision    recall  f1-score   support\n",
      "\n",
      "           0       1.00      0.03      0.05       145\n",
      "           1       0.52      1.00      0.68       151\n",
      "\n",
      "    accuracy                           0.52       296\n",
      "   macro avg       0.76      0.51      0.37       296\n",
      "weighted avg       0.75      0.52      0.37       296\n",
      "\n"
     ]
    }
   ],
   "source": [
    "print(classification_report(y_test, reduced_cnn_pred))"
   ]
  },
  {
   "cell_type": "code",
   "execution_count": null,
   "id": "ce152cbd",
   "metadata": {},
   "outputs": [],
   "source": []
  }
 ],
 "metadata": {
  "kernelspec": {
   "display_name": "Python 3",
   "language": "python",
   "name": "python3"
  },
  "language_info": {
   "codemirror_mode": {
    "name": "ipython",
    "version": 3
   },
   "file_extension": ".py",
   "mimetype": "text/x-python",
   "name": "python",
   "nbconvert_exporter": "python",
   "pygments_lexer": "ipython3",
   "version": "3.8.8"
  }
 },
 "nbformat": 4,
 "nbformat_minor": 5
}
